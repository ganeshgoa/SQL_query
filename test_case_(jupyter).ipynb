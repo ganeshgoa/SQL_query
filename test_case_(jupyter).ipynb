{
 "cells": [
  {
   "cell_type": "code",
   "execution_count": 1,
   "id": "cdc7d74f",
   "metadata": {},
   "outputs": [],
   "source": [
    "import sqlite3\n",
    "import sys\n",
    "import datetime"
   ]
  },
  {
   "cell_type": "code",
   "execution_count": 2,
   "id": "68883b21",
   "metadata": {},
   "outputs": [],
   "source": [
    "#Создаем новую БД, подключаемся к ней, создаем таблицу сотрудников\n",
    "connection = sqlite3.connect('ndb.db', timeout=100)\n",
    "cursor = connection.cursor()\n",
    "cursor.execute('''\n",
    "CREATE TABLE IF NOT EXISTS emp (\n",
    "id INTEGER PRIMARY KEY,\n",
    "name TEXT NOT NULL,\n",
    "depar VARCHAR(255) NOT NULL,\n",
    "num INTEGER,\n",
    "dates TEXT,\n",
    "vacation TEXT\n",
    ")\n",
    "''')\n",
    "connection.commit()"
   ]
  },
  {
   "cell_type": "code",
   "execution_count": 3,
   "id": "e6ceb7e3",
   "metadata": {},
   "outputs": [],
   "source": [
    "# Добавляем данные в таблицу\n",
    "cursor.execute('''\n",
    "INSERT INTO emp \n",
    "('name', 'depar', 'num', 'dates', 'vacation')\n",
    "VALUES\n",
    "('Иванов', 'SDH, PDH, WDM', '3', '2024-02-02', 'с 2024-02-05 - 2024-02-15'),\n",
    "('Петров', 'СПД, Сервера', '6', '2024-01-30', 'с 2024-02-07 - 2024-02-09'),\n",
    "('Сидоров', 'ОбТС, PDH', '3', '2024-02-02', '-'),\n",
    "('Рабинович', 'Сервера, WDM', '5', '2024-01-30', 'с 2024-02-12 - 2024-02-15'),\n",
    "('Зозо', 'ОбТС, СПД', '3', '2024-01-31', 'с 2024-02-07 - 2024-02-09')\n",
    "''')\n",
    "connection.commit()"
   ]
  },
  {
   "cell_type": "code",
   "execution_count": 4,
   "id": "5bb9589b",
   "metadata": {},
   "outputs": [
    {
     "name": "stdout",
     "output_type": "stream",
     "text": [
      "Введите нарпавление: SDH, PDH, WDM, СПД, Сервера, ОбТС Сервера\n",
      "Введите дату в формате год-месяц-день, например, 2024-02-02 2024-02-08\n",
      "Вы ввели:  %Сервера% 2024-02-08\n"
     ]
    }
   ],
   "source": [
    "#Спрашиваем у пользователя, какое направление для создания заявки\n",
    "dep1 = input(\"Введите нарпавление: SDH, PDH, WDM, СПД, Сервера, ОбТС \")\n",
    "dep = \"%\"+dep1+\"%\"\n",
    "fixd1 = '2024-02-02'\n",
    "fixd = datetime.datetime.strptime(fixd1, \"%Y-%m-%d\").date()\n",
    "#Спрашиваем у пользователя дату для создания заявки, ввести можно только в одном формате YYYY-MM-DD\n",
    "dt1 = input(\"Введите дату в формате год-месяц-день, например, 2024-02-02 \")\n",
    "dt = datetime.datetime.strptime(dt1, \"%Y-%m-%d\").date()\n",
    "if dt < fixd:\n",
    "    print(\"Вы ввели дату меньше, чем 2024-02-02 \")\n",
    "    while dt < fixd:\n",
    "        dt12 = input(\"Введите дату более 2024-02-01 \")\n",
    "        dt = datetime.datetime.strptime(dt12, \"%Y-%m-%d\").date()\n",
    "print(\"Вы ввели: \", dep, dt)"
   ]
  },
  {
   "cell_type": "code",
   "execution_count": 5,
   "id": "7ed1c681",
   "metadata": {},
   "outputs": [],
   "source": [
    "#Создаем текст запроса, делаем запрос, получаем данные.\n",
    "sql = '''\n",
    "SELECT *, \n",
    "TRIM(substr(vacation, 1, instr(vacation, ' - ') -1), 'с ') AS vac_start, \n",
    "substr(vacation, instr(vacation, ' - ') +3) AS vac_end\n",
    "FROM(SELECT * FROM emp WHERE depar LIKE '%s')\n",
    "WHERE (vac_start > ? OR ? > vac_end) OR vacation = '-'\n",
    "ORDER BY num, dates\n",
    "LIMIT 1; \n",
    "''' %dep\n",
    "cursor.execute(sql, (dt, dt))\n",
    "la = cursor.fetchall()"
   ]
  },
  {
   "cell_type": "code",
   "execution_count": 6,
   "id": "f9269471",
   "metadata": {},
   "outputs": [
    {
     "name": "stdout",
     "output_type": "stream",
     "text": [
      "(4, 'Рабинович', 'Сервера, WDM', 5, '2024-01-30', 'с 2024-02-12 - 2024-02-15', '2024-02-12', '2024-02-15')\n",
      "Вы можете создать заявку на сотрудника  Рабинович\n"
     ]
    }
   ],
   "source": [
    "#Выводим на экран фамилию сотрудника,который может взять заявку\n",
    "if len(la)==0:\n",
    "        print(\"Нет свободных сотрудников\")\n",
    "else:\n",
    "    out = la[0]\n",
    "    print(out)\n",
    "    print(\"Вы можете создать заявку на сотрудника \", out[1])\n",
    "    "
   ]
  },
  {
   "cell_type": "code",
   "execution_count": 7,
   "id": "f5228b9e",
   "metadata": {},
   "outputs": [],
   "source": [
    "#Закрываем подключение\n",
    "cursor.close()\n",
    "connection.close()"
   ]
  },
  {
   "cell_type": "code",
   "execution_count": null,
   "id": "ff9e2eae",
   "metadata": {},
   "outputs": [],
   "source": []
  }
 ],
 "metadata": {
  "kernelspec": {
   "display_name": "Python 3 (ipykernel)",
   "language": "python",
   "name": "python3"
  },
  "language_info": {
   "codemirror_mode": {
    "name": "ipython",
    "version": 3
   },
   "file_extension": ".py",
   "mimetype": "text/x-python",
   "name": "python",
   "nbconvert_exporter": "python",
   "pygments_lexer": "ipython3",
   "version": "3.11.5"
  }
 },
 "nbformat": 4,
 "nbformat_minor": 5
}
